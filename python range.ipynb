{
 "cells": [
  {
   "cell_type": "code",
   "execution_count": null,
   "id": "2981041a",
   "metadata": {},
   "outputs": [],
   "source": [
    "n=int(input(\"enter range of prime numbers:\"))\n",
    "for num in range(2,n+1): \n",
    "    count=0\n",
    "for i in range(2,num//2+1): \n",
    "    if(num%i==0):\n",
    "        count=count+1\n",
    "    if(count==0):\n",
    "        print(num)"
   ]
  },
  {
   "cell_type": "code",
   "execution_count": null,
   "id": "204b849b",
   "metadata": {},
   "outputs": [],
   "source": []
  },
  {
   "cell_type": "code",
   "execution_count": null,
   "id": "27f5fc80",
   "metadata": {},
   "outputs": [],
   "source": []
  },
  {
   "cell_type": "code",
   "execution_count": null,
   "id": "2c26959b",
   "metadata": {},
   "outputs": [],
   "source": []
  }
 ],
 "metadata": {
  "kernelspec": {
   "display_name": "Python 3 (ipykernel)",
   "language": "python",
   "name": "python3"
  },
  "language_info": {
   "codemirror_mode": {
    "name": "ipython",
    "version": 3
   },
   "file_extension": ".py",
   "mimetype": "text/x-python",
   "name": "python",
   "nbconvert_exporter": "python",
   "pygments_lexer": "ipython3",
   "version": "3.9.7"
  }
 },
 "nbformat": 4,
 "nbformat_minor": 5
}
