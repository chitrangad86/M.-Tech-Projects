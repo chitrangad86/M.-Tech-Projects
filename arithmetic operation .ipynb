{
 "cells": [
  {
   "cell_type": "code",
   "execution_count": 20,
   "id": "a3d7afe8",
   "metadata": {},
   "outputs": [
    {
     "data": {
      "text/plain": [
       "int"
      ]
     },
     "execution_count": 20,
     "metadata": {},
     "output_type": "execute_result"
    }
   ],
   "source": [
    "n1=1\n",
    "type (n1)"
   ]
  },
  {
   "cell_type": "code",
   "execution_count": 21,
   "id": "f4af3aeb",
   "metadata": {},
   "outputs": [
    {
     "data": {
      "text/plain": [
       "float"
      ]
     },
     "execution_count": 21,
     "metadata": {},
     "output_type": "execute_result"
    }
   ],
   "source": [
    "n1=1.2\n",
    "type (n1)"
   ]
  },
  {
   "cell_type": "code",
   "execution_count": 22,
   "id": "494aaae4",
   "metadata": {},
   "outputs": [
    {
     "data": {
      "text/plain": [
       "complex"
      ]
     },
     "execution_count": 22,
     "metadata": {},
     "output_type": "execute_result"
    }
   ],
   "source": [
    "n1=1+2j\n",
    "type(n1)"
   ]
  },
  {
   "cell_type": "code",
   "execution_count": 12,
   "id": "8c79c571",
   "metadata": {},
   "outputs": [
    {
     "name": "stdout",
     "output_type": "stream",
     "text": [
      "Enter First number: 6\n",
      "Enter Second number 2\n",
      "Sum of  6 and 2 is : 8\n",
      "Difference of  6 and 2 is : 4\n",
      "Product of 6 and 2 is : 12\n",
      "Division of  6 and 2 is : 3.0\n",
      "Floor Division of  6 and 2 is : 3\n",
      "Exponent of  6 and 2 is : 36\n",
      "Modulus of  6 and 2 is : 0\n"
     ]
    }
   ],
   "source": [
    "num1 = int(input('Enter First number: ')) \n",
    "num2 = int(input('Enter Second number ')) \n",
    "add = num1 + num2\n",
    "dif = num1 - num2 \n",
    "mul = num1 * num2 \n",
    "div = num1 / num2 \n",
    "floor_div = num1 // num2 \n",
    "power = num1 ** num2 \n",
    "modulus = num1 % num2\n",
    "print('Sum of ',num1 ,'and' ,num2 ,'is :',add) \n",
    "print('Difference of ',num1 ,'and' ,num2 ,'is :',dif) \n",
    "print('Product of' ,num1 ,'and' ,num2 ,'is :',mul) \n",
    "print('Division of ',num1 ,'and' ,num2 ,'is :',div) \n",
    "print('Floor Division of ',num1 ,'and' ,num2 ,'is :',floor_div) \n",
    "print('Exponent of ',num1 ,'and' ,num2 ,'is :',power) \n",
    "print('Modulus of ',num1 ,'and' ,num2 ,'is :',modulus)"
   ]
  },
  {
   "cell_type": "code",
   "execution_count": 24,
   "id": "db9031e2",
   "metadata": {},
   "outputs": [
    {
     "name": "stdout",
     "output_type": "stream",
     "text": [
      "enter first stringchitrangad\n",
      "enter second stringsahaj\n",
      "chitrangad\n",
      "sahaj\n",
      "chitrangadsahaj\n",
      "chitrangadchitrangadchitrangadchitrangadchitrangad\n",
      "c\n",
      "j\n",
      "chit aj\n"
     ]
    }
   ],
   "source": [
    "s1= input('enter first string')\n",
    "s2= input('enter second string')\n",
    "print (s1)\n",
    "print(s2)\n",
    "print(s1+s2)\n",
    "print(s1*5)\n",
    "print(s1[0])\n",
    "print(s2[-1])\n",
    "print(s1[:4],s2[3:])"
   ]
  },
  {
   "cell_type": "code",
   "execution_count": null,
   "id": "57ebc837",
   "metadata": {},
   "outputs": [],
   "source": [
    "present_time=time."
   ]
  },
  {
   "cell_type": "code",
   "execution_count": null,
   "id": "1b084379",
   "metadata": {},
   "outputs": [],
   "source": []
  }
 ],
 "metadata": {
  "kernelspec": {
   "display_name": "Python 3 (ipykernel)",
   "language": "python",
   "name": "python3"
  },
  "language_info": {
   "codemirror_mode": {
    "name": "ipython",
    "version": 3
   },
   "file_extension": ".py",
   "mimetype": "text/x-python",
   "name": "python",
   "nbconvert_exporter": "python",
   "pygments_lexer": "ipython3",
   "version": "3.9.7"
  }
 },
 "nbformat": 4,
 "nbformat_minor": 5
}
