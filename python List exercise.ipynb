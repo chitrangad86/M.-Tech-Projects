{
 "cells": [
  {
   "cell_type": "code",
   "execution_count": 9,
   "id": "25b8eec1",
   "metadata": {},
   "outputs": [
    {
     "name": "stdout",
     "output_type": "stream",
     "text": [
      "2022\n"
     ]
    }
   ],
   "source": [
    "import datetime\n",
    "today= datetime.datetime.now()\n",
    "print (today.year)"
   ]
  },
  {
   "cell_type": "code",
   "execution_count": 3,
   "id": "ea89ee77",
   "metadata": {},
   "outputs": [
    {
     "name": "stdout",
     "output_type": "stream",
     "text": [
      "2022-03-13 22:17:54.178464\n"
     ]
    }
   ],
   "source": [
    "print(today)"
   ]
  },
  {
   "cell_type": "code",
   "execution_count": 13,
   "id": "dbed6546",
   "metadata": {},
   "outputs": [
    {
     "data": {
      "text/plain": [
       "[1, 'a', 'text', (1+2j), 'my name is cj']"
      ]
     },
     "execution_count": 13,
     "metadata": {},
     "output_type": "execute_result"
    }
   ],
   "source": [
    "l1=[1,'a','text',1+2j,\"my name is cj\" ]\n",
    "l1"
   ]
  },
  {
   "cell_type": "code",
   "execution_count": 15,
   "id": "f6d8952e",
   "metadata": {},
   "outputs": [
    {
     "data": {
      "text/plain": [
       "'a'"
      ]
     },
     "execution_count": 15,
     "metadata": {},
     "output_type": "execute_result"
    }
   ],
   "source": [
    "l1[1]"
   ]
  },
  {
   "cell_type": "code",
   "execution_count": 17,
   "id": "b89ec660",
   "metadata": {},
   "outputs": [
    {
     "data": {
      "text/plain": [
       "[1, 'test', 4.5]"
      ]
     },
     "execution_count": 17,
     "metadata": {},
     "output_type": "execute_result"
    }
   ],
   "source": [
    "l2=[1,'test', 4.5]\n",
    "l2"
   ]
  },
  {
   "cell_type": "code",
   "execution_count": 18,
   "id": "0a526d9c",
   "metadata": {},
   "outputs": [
    {
     "data": {
      "text/plain": [
       "[1, 'a', 'text', (1+2j), 'my name is cj', 1, 'test', 4.5]"
      ]
     },
     "execution_count": 18,
     "metadata": {},
     "output_type": "execute_result"
    }
   ],
   "source": [
    "l3=l1+l2\n",
    "l3"
   ]
  },
  {
   "cell_type": "markdown",
   "id": "6c68c4bf",
   "metadata": {},
   "source": [
    "l3[2]=3\n",
    "l3"
   ]
  },
  {
   "cell_type": "code",
   "execution_count": 19,
   "id": "c2a73756",
   "metadata": {},
   "outputs": [
    {
     "data": {
      "text/plain": [
       "[1, 'a', 4, (1+2j), 'my name is cj', 1, 'test', 4.5]"
      ]
     },
     "execution_count": 19,
     "metadata": {},
     "output_type": "execute_result"
    }
   ],
   "source": [
    "l3[2]=4\n",
    "l3"
   ]
  },
  {
   "cell_type": "code",
   "execution_count": 20,
   "id": "2e9d888c",
   "metadata": {},
   "outputs": [
    {
     "data": {
      "text/plain": [
       "[1, 'a', 4, (1+2j), 'my name is cj', 1, 'test']"
      ]
     },
     "execution_count": 20,
     "metadata": {},
     "output_type": "execute_result"
    }
   ],
   "source": [
    "l3.pop()\n",
    "l3"
   ]
  },
  {
   "cell_type": "code",
   "execution_count": 21,
   "id": "85e6b1ea",
   "metadata": {},
   "outputs": [
    {
     "data": {
      "text/plain": [
       "[1, 'a', 4, (1+2j), 'my name is cj', 1, 'test', 2.2]"
      ]
     },
     "execution_count": 21,
     "metadata": {},
     "output_type": "execute_result"
    }
   ],
   "source": [
    "l3.append(2.2)\n",
    "l3"
   ]
  },
  {
   "cell_type": "code",
   "execution_count": 32,
   "id": "f3512f0b",
   "metadata": {},
   "outputs": [
    {
     "name": "stdout",
     "output_type": "stream",
     "text": [
      "1\n",
      "a\n",
      "4\n",
      "(1+2j)\n",
      "my name is cj\n",
      "1\n",
      "test\n",
      "2.2\n"
     ]
    }
   ],
   "source": [
    "for i in l3:\n",
    "    print(i);"
   ]
  },
  {
   "cell_type": "code",
   "execution_count": 35,
   "id": "909e70e2",
   "metadata": {},
   "outputs": [
    {
     "data": {
      "text/plain": [
       "[1, 'a', 4, (1+2j), 'my name is cj', 1, 'test', 2.2]"
      ]
     },
     "execution_count": 35,
     "metadata": {},
     "output_type": "execute_result"
    }
   ],
   "source": [
    "l3"
   ]
  },
  {
   "cell_type": "code",
   "execution_count": 47,
   "id": "a390fa53",
   "metadata": {},
   "outputs": [
    {
     "data": {
      "text/plain": [
       "({1: 'v', 2: 'test', 3: (1+9j), 's': 6}, {'s': 6})"
      ]
     },
     "execution_count": 47,
     "metadata": {},
     "output_type": "execute_result"
    }
   ],
   "source": [
    "d1={1:'v', 2:\"test\", 3: 1+9j}\n",
    "d2={'s':6}\n",
    "d1.update(d2)\n",
    "d1,d2"
   ]
  },
  {
   "cell_type": "code",
   "execution_count": 49,
   "id": "0383def9",
   "metadata": {},
   "outputs": [
    {
     "data": {
      "text/plain": [
       "{2: 'test', 3: (1+9j), 's': 6}"
      ]
     },
     "execution_count": 49,
     "metadata": {},
     "output_type": "execute_result"
    }
   ],
   "source": [
    "d1.pop(1)\n",
    "d1"
   ]
  },
  {
   "cell_type": "code",
   "execution_count": 51,
   "id": "9bbcbd2b",
   "metadata": {},
   "outputs": [
    {
     "data": {
      "text/plain": [
       "{2: 'test', 3: (1+9j), 's': 6, 1: 'c'}"
      ]
     },
     "execution_count": 51,
     "metadata": {},
     "output_type": "execute_result"
    }
   ],
   "source": [
    "d1[1]='c'\n",
    "d1"
   ]
  },
  {
   "cell_type": "code",
   "execution_count": null,
   "id": "1085596a",
   "metadata": {},
   "outputs": [],
   "source": []
  }
 ],
 "metadata": {
  "kernelspec": {
   "display_name": "Python 3 (ipykernel)",
   "language": "python",
   "name": "python3"
  },
  "language_info": {
   "codemirror_mode": {
    "name": "ipython",
    "version": 3
   },
   "file_extension": ".py",
   "mimetype": "text/x-python",
   "name": "python",
   "nbconvert_exporter": "python",
   "pygments_lexer": "ipython3",
   "version": "3.9.7"
  }
 },
 "nbformat": 4,
 "nbformat_minor": 5
}
